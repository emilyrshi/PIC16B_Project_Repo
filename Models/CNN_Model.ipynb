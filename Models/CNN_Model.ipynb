{
  "nbformat": 4,
  "nbformat_minor": 0,
  "metadata": {
    "colab": {
      "provenance": [],
      "gpuType": "T4"
    },
    "kernelspec": {
      "name": "python3",
      "display_name": "Python 3"
    },
    "language_info": {
      "name": "python"
    },
    "accelerator": "GPU"
  },
  "cells": [
    {
      "cell_type": "code",
      "source": [
        "import pandas as pd\n",
        "import numpy as np\n",
        "import tensorflow as tf\n",
        "from tensorflow import keras\n",
        "from tensorflow.keras import datasets, layers, models\n",
        "from sklearn.preprocessing import LabelEncoder\n",
        "from sklearn.model_selection import train_test_split\n",
        "import matplotlib.pyplot as plt\n",
        "from keras.models import load_model\n",
        "from keras.preprocessing import image\n",
        "import matplotlib.pyplot as plt\n",
        "from google.colab import drive\n",
        "import os\n",
        "import cv2"
      ],
      "metadata": {
        "id": "tL_6nmwgbkg0"
      },
      "execution_count": null,
      "outputs": []
    },
    {
      "cell_type": "markdown",
      "source": [
        "# Importing Dataset"
      ],
      "metadata": {
        "id": "eRcspp02gG0c"
      }
    },
    {
      "cell_type": "code",
      "execution_count": null,
      "metadata": {
        "colab": {
          "base_uri": "https://localhost:8080/",
          "height": 456
        },
        "id": "wj0X3MCubgHU",
        "outputId": "548d1910-4be3-4f91-c5c2-9e436f1753ac"
      },
      "outputs": [
        {
          "output_type": "execute_result",
          "data": {
            "text/plain": [
              "     Unnamed: 0    0    1    2    3    4    5    6    7    8  ...  775  776  \\\n",
              "0             0   58   57   58   57   58   57  109   60   60  ...  196   81   \n",
              "1             1   58   58   58   58   57   57  108   59   58  ...  195  184   \n",
              "2             2   59   57   57   57   58   58  107   60   59  ...  197  190   \n",
              "3             3   60   60   60   59   58   59  110   61   60  ...   49   36   \n",
              "4             4   60   59   60   60   60   60  110   62   61  ...   41   31   \n",
              "..          ...  ...  ...  ...  ...  ...  ...  ...  ...  ...  ...  ...  ...   \n",
              "695          95  101  103  107  109  110  111  113  115  117  ...   82   86   \n",
              "696          96  101  104  108  110  112  114  113  115  117  ...  113   89   \n",
              "697          97  101  104  109  110  110  113  114  115  115  ...  116   88   \n",
              "698          98  101  104  108  110  113  113  114  116  117  ...  115   91   \n",
              "699          99  101  104  108  110  113  113  114  115  118  ...  115   90   \n",
              "\n",
              "     777  778  779  780  781  782  783  Letter  \n",
              "0     31   22   16   13    9    7    6       D  \n",
              "1     33   21   16   13    9    7    6       D  \n",
              "2     34   21   18   14    9    7    6       D  \n",
              "3     26   20   16   14   10    8    6       D  \n",
              "4     24   19   17   14   10    8    7       D  \n",
              "..   ...  ...  ...  ...  ...  ...  ...     ...  \n",
              "695   72   62   45   38   30   37  118       W  \n",
              "696   74   63   44   37   30   34  116       W  \n",
              "697   70   61   42   39   71  124  106       W  \n",
              "698   73   63   46   44   33   80   54       W  \n",
              "699   75   63   48   40   34   79   90       W  \n",
              "\n",
              "[700 rows x 786 columns]"
            ],
            "text/html": [
              "\n",
              "  <div id=\"df-d5b09d6c-bdb3-42b0-a7b7-bcc0576e3683\" class=\"colab-df-container\">\n",
              "    <div>\n",
              "<style scoped>\n",
              "    .dataframe tbody tr th:only-of-type {\n",
              "        vertical-align: middle;\n",
              "    }\n",
              "\n",
              "    .dataframe tbody tr th {\n",
              "        vertical-align: top;\n",
              "    }\n",
              "\n",
              "    .dataframe thead th {\n",
              "        text-align: right;\n",
              "    }\n",
              "</style>\n",
              "<table border=\"1\" class=\"dataframe\">\n",
              "  <thead>\n",
              "    <tr style=\"text-align: right;\">\n",
              "      <th></th>\n",
              "      <th>Unnamed: 0</th>\n",
              "      <th>0</th>\n",
              "      <th>1</th>\n",
              "      <th>2</th>\n",
              "      <th>3</th>\n",
              "      <th>4</th>\n",
              "      <th>5</th>\n",
              "      <th>6</th>\n",
              "      <th>7</th>\n",
              "      <th>8</th>\n",
              "      <th>...</th>\n",
              "      <th>775</th>\n",
              "      <th>776</th>\n",
              "      <th>777</th>\n",
              "      <th>778</th>\n",
              "      <th>779</th>\n",
              "      <th>780</th>\n",
              "      <th>781</th>\n",
              "      <th>782</th>\n",
              "      <th>783</th>\n",
              "      <th>Letter</th>\n",
              "    </tr>\n",
              "  </thead>\n",
              "  <tbody>\n",
              "    <tr>\n",
              "      <th>0</th>\n",
              "      <td>0</td>\n",
              "      <td>58</td>\n",
              "      <td>57</td>\n",
              "      <td>58</td>\n",
              "      <td>57</td>\n",
              "      <td>58</td>\n",
              "      <td>57</td>\n",
              "      <td>109</td>\n",
              "      <td>60</td>\n",
              "      <td>60</td>\n",
              "      <td>...</td>\n",
              "      <td>196</td>\n",
              "      <td>81</td>\n",
              "      <td>31</td>\n",
              "      <td>22</td>\n",
              "      <td>16</td>\n",
              "      <td>13</td>\n",
              "      <td>9</td>\n",
              "      <td>7</td>\n",
              "      <td>6</td>\n",
              "      <td>D</td>\n",
              "    </tr>\n",
              "    <tr>\n",
              "      <th>1</th>\n",
              "      <td>1</td>\n",
              "      <td>58</td>\n",
              "      <td>58</td>\n",
              "      <td>58</td>\n",
              "      <td>58</td>\n",
              "      <td>57</td>\n",
              "      <td>57</td>\n",
              "      <td>108</td>\n",
              "      <td>59</td>\n",
              "      <td>58</td>\n",
              "      <td>...</td>\n",
              "      <td>195</td>\n",
              "      <td>184</td>\n",
              "      <td>33</td>\n",
              "      <td>21</td>\n",
              "      <td>16</td>\n",
              "      <td>13</td>\n",
              "      <td>9</td>\n",
              "      <td>7</td>\n",
              "      <td>6</td>\n",
              "      <td>D</td>\n",
              "    </tr>\n",
              "    <tr>\n",
              "      <th>2</th>\n",
              "      <td>2</td>\n",
              "      <td>59</td>\n",
              "      <td>57</td>\n",
              "      <td>57</td>\n",
              "      <td>57</td>\n",
              "      <td>58</td>\n",
              "      <td>58</td>\n",
              "      <td>107</td>\n",
              "      <td>60</td>\n",
              "      <td>59</td>\n",
              "      <td>...</td>\n",
              "      <td>197</td>\n",
              "      <td>190</td>\n",
              "      <td>34</td>\n",
              "      <td>21</td>\n",
              "      <td>18</td>\n",
              "      <td>14</td>\n",
              "      <td>9</td>\n",
              "      <td>7</td>\n",
              "      <td>6</td>\n",
              "      <td>D</td>\n",
              "    </tr>\n",
              "    <tr>\n",
              "      <th>3</th>\n",
              "      <td>3</td>\n",
              "      <td>60</td>\n",
              "      <td>60</td>\n",
              "      <td>60</td>\n",
              "      <td>59</td>\n",
              "      <td>58</td>\n",
              "      <td>59</td>\n",
              "      <td>110</td>\n",
              "      <td>61</td>\n",
              "      <td>60</td>\n",
              "      <td>...</td>\n",
              "      <td>49</td>\n",
              "      <td>36</td>\n",
              "      <td>26</td>\n",
              "      <td>20</td>\n",
              "      <td>16</td>\n",
              "      <td>14</td>\n",
              "      <td>10</td>\n",
              "      <td>8</td>\n",
              "      <td>6</td>\n",
              "      <td>D</td>\n",
              "    </tr>\n",
              "    <tr>\n",
              "      <th>4</th>\n",
              "      <td>4</td>\n",
              "      <td>60</td>\n",
              "      <td>59</td>\n",
              "      <td>60</td>\n",
              "      <td>60</td>\n",
              "      <td>60</td>\n",
              "      <td>60</td>\n",
              "      <td>110</td>\n",
              "      <td>62</td>\n",
              "      <td>61</td>\n",
              "      <td>...</td>\n",
              "      <td>41</td>\n",
              "      <td>31</td>\n",
              "      <td>24</td>\n",
              "      <td>19</td>\n",
              "      <td>17</td>\n",
              "      <td>14</td>\n",
              "      <td>10</td>\n",
              "      <td>8</td>\n",
              "      <td>7</td>\n",
              "      <td>D</td>\n",
              "    </tr>\n",
              "    <tr>\n",
              "      <th>...</th>\n",
              "      <td>...</td>\n",
              "      <td>...</td>\n",
              "      <td>...</td>\n",
              "      <td>...</td>\n",
              "      <td>...</td>\n",
              "      <td>...</td>\n",
              "      <td>...</td>\n",
              "      <td>...</td>\n",
              "      <td>...</td>\n",
              "      <td>...</td>\n",
              "      <td>...</td>\n",
              "      <td>...</td>\n",
              "      <td>...</td>\n",
              "      <td>...</td>\n",
              "      <td>...</td>\n",
              "      <td>...</td>\n",
              "      <td>...</td>\n",
              "      <td>...</td>\n",
              "      <td>...</td>\n",
              "      <td>...</td>\n",
              "      <td>...</td>\n",
              "    </tr>\n",
              "    <tr>\n",
              "      <th>695</th>\n",
              "      <td>95</td>\n",
              "      <td>101</td>\n",
              "      <td>103</td>\n",
              "      <td>107</td>\n",
              "      <td>109</td>\n",
              "      <td>110</td>\n",
              "      <td>111</td>\n",
              "      <td>113</td>\n",
              "      <td>115</td>\n",
              "      <td>117</td>\n",
              "      <td>...</td>\n",
              "      <td>82</td>\n",
              "      <td>86</td>\n",
              "      <td>72</td>\n",
              "      <td>62</td>\n",
              "      <td>45</td>\n",
              "      <td>38</td>\n",
              "      <td>30</td>\n",
              "      <td>37</td>\n",
              "      <td>118</td>\n",
              "      <td>W</td>\n",
              "    </tr>\n",
              "    <tr>\n",
              "      <th>696</th>\n",
              "      <td>96</td>\n",
              "      <td>101</td>\n",
              "      <td>104</td>\n",
              "      <td>108</td>\n",
              "      <td>110</td>\n",
              "      <td>112</td>\n",
              "      <td>114</td>\n",
              "      <td>113</td>\n",
              "      <td>115</td>\n",
              "      <td>117</td>\n",
              "      <td>...</td>\n",
              "      <td>113</td>\n",
              "      <td>89</td>\n",
              "      <td>74</td>\n",
              "      <td>63</td>\n",
              "      <td>44</td>\n",
              "      <td>37</td>\n",
              "      <td>30</td>\n",
              "      <td>34</td>\n",
              "      <td>116</td>\n",
              "      <td>W</td>\n",
              "    </tr>\n",
              "    <tr>\n",
              "      <th>697</th>\n",
              "      <td>97</td>\n",
              "      <td>101</td>\n",
              "      <td>104</td>\n",
              "      <td>109</td>\n",
              "      <td>110</td>\n",
              "      <td>110</td>\n",
              "      <td>113</td>\n",
              "      <td>114</td>\n",
              "      <td>115</td>\n",
              "      <td>115</td>\n",
              "      <td>...</td>\n",
              "      <td>116</td>\n",
              "      <td>88</td>\n",
              "      <td>70</td>\n",
              "      <td>61</td>\n",
              "      <td>42</td>\n",
              "      <td>39</td>\n",
              "      <td>71</td>\n",
              "      <td>124</td>\n",
              "      <td>106</td>\n",
              "      <td>W</td>\n",
              "    </tr>\n",
              "    <tr>\n",
              "      <th>698</th>\n",
              "      <td>98</td>\n",
              "      <td>101</td>\n",
              "      <td>104</td>\n",
              "      <td>108</td>\n",
              "      <td>110</td>\n",
              "      <td>113</td>\n",
              "      <td>113</td>\n",
              "      <td>114</td>\n",
              "      <td>116</td>\n",
              "      <td>117</td>\n",
              "      <td>...</td>\n",
              "      <td>115</td>\n",
              "      <td>91</td>\n",
              "      <td>73</td>\n",
              "      <td>63</td>\n",
              "      <td>46</td>\n",
              "      <td>44</td>\n",
              "      <td>33</td>\n",
              "      <td>80</td>\n",
              "      <td>54</td>\n",
              "      <td>W</td>\n",
              "    </tr>\n",
              "    <tr>\n",
              "      <th>699</th>\n",
              "      <td>99</td>\n",
              "      <td>101</td>\n",
              "      <td>104</td>\n",
              "      <td>108</td>\n",
              "      <td>110</td>\n",
              "      <td>113</td>\n",
              "      <td>113</td>\n",
              "      <td>114</td>\n",
              "      <td>115</td>\n",
              "      <td>118</td>\n",
              "      <td>...</td>\n",
              "      <td>115</td>\n",
              "      <td>90</td>\n",
              "      <td>75</td>\n",
              "      <td>63</td>\n",
              "      <td>48</td>\n",
              "      <td>40</td>\n",
              "      <td>34</td>\n",
              "      <td>79</td>\n",
              "      <td>90</td>\n",
              "      <td>W</td>\n",
              "    </tr>\n",
              "  </tbody>\n",
              "</table>\n",
              "<p>700 rows × 786 columns</p>\n",
              "</div>\n",
              "    <div class=\"colab-df-buttons\">\n",
              "\n",
              "  <div class=\"colab-df-container\">\n",
              "    <button class=\"colab-df-convert\" onclick=\"convertToInteractive('df-d5b09d6c-bdb3-42b0-a7b7-bcc0576e3683')\"\n",
              "            title=\"Convert this dataframe to an interactive table.\"\n",
              "            style=\"display:none;\">\n",
              "\n",
              "  <svg xmlns=\"http://www.w3.org/2000/svg\" height=\"24px\" viewBox=\"0 -960 960 960\">\n",
              "    <path d=\"M120-120v-720h720v720H120Zm60-500h600v-160H180v160Zm220 220h160v-160H400v160Zm0 220h160v-160H400v160ZM180-400h160v-160H180v160Zm440 0h160v-160H620v160ZM180-180h160v-160H180v160Zm440 0h160v-160H620v160Z\"/>\n",
              "  </svg>\n",
              "    </button>\n",
              "\n",
              "  <style>\n",
              "    .colab-df-container {\n",
              "      display:flex;\n",
              "      gap: 12px;\n",
              "    }\n",
              "\n",
              "    .colab-df-convert {\n",
              "      background-color: #E8F0FE;\n",
              "      border: none;\n",
              "      border-radius: 50%;\n",
              "      cursor: pointer;\n",
              "      display: none;\n",
              "      fill: #1967D2;\n",
              "      height: 32px;\n",
              "      padding: 0 0 0 0;\n",
              "      width: 32px;\n",
              "    }\n",
              "\n",
              "    .colab-df-convert:hover {\n",
              "      background-color: #E2EBFA;\n",
              "      box-shadow: 0px 1px 2px rgba(60, 64, 67, 0.3), 0px 1px 3px 1px rgba(60, 64, 67, 0.15);\n",
              "      fill: #174EA6;\n",
              "    }\n",
              "\n",
              "    .colab-df-buttons div {\n",
              "      margin-bottom: 4px;\n",
              "    }\n",
              "\n",
              "    [theme=dark] .colab-df-convert {\n",
              "      background-color: #3B4455;\n",
              "      fill: #D2E3FC;\n",
              "    }\n",
              "\n",
              "    [theme=dark] .colab-df-convert:hover {\n",
              "      background-color: #434B5C;\n",
              "      box-shadow: 0px 1px 3px 1px rgba(0, 0, 0, 0.15);\n",
              "      filter: drop-shadow(0px 1px 2px rgba(0, 0, 0, 0.3));\n",
              "      fill: #FFFFFF;\n",
              "    }\n",
              "  </style>\n",
              "\n",
              "    <script>\n",
              "      const buttonEl =\n",
              "        document.querySelector('#df-d5b09d6c-bdb3-42b0-a7b7-bcc0576e3683 button.colab-df-convert');\n",
              "      buttonEl.style.display =\n",
              "        google.colab.kernel.accessAllowed ? 'block' : 'none';\n",
              "\n",
              "      async function convertToInteractive(key) {\n",
              "        const element = document.querySelector('#df-d5b09d6c-bdb3-42b0-a7b7-bcc0576e3683');\n",
              "        const dataTable =\n",
              "          await google.colab.kernel.invokeFunction('convertToInteractive',\n",
              "                                                    [key], {});\n",
              "        if (!dataTable) return;\n",
              "\n",
              "        const docLinkHtml = 'Like what you see? Visit the ' +\n",
              "          '<a target=\"_blank\" href=https://colab.research.google.com/notebooks/data_table.ipynb>data table notebook</a>'\n",
              "          + ' to learn more about interactive tables.';\n",
              "        element.innerHTML = '';\n",
              "        dataTable['output_type'] = 'display_data';\n",
              "        await google.colab.output.renderOutput(dataTable, element);\n",
              "        const docLink = document.createElement('div');\n",
              "        docLink.innerHTML = docLinkHtml;\n",
              "        element.appendChild(docLink);\n",
              "      }\n",
              "    </script>\n",
              "  </div>\n",
              "\n",
              "\n",
              "<div id=\"df-ff16ff44-0ba8-4030-8ac2-660efb11608b\">\n",
              "  <button class=\"colab-df-quickchart\" onclick=\"quickchart('df-ff16ff44-0ba8-4030-8ac2-660efb11608b')\"\n",
              "            title=\"Suggest charts\"\n",
              "            style=\"display:none;\">\n",
              "\n",
              "<svg xmlns=\"http://www.w3.org/2000/svg\" height=\"24px\"viewBox=\"0 0 24 24\"\n",
              "     width=\"24px\">\n",
              "    <g>\n",
              "        <path d=\"M19 3H5c-1.1 0-2 .9-2 2v14c0 1.1.9 2 2 2h14c1.1 0 2-.9 2-2V5c0-1.1-.9-2-2-2zM9 17H7v-7h2v7zm4 0h-2V7h2v10zm4 0h-2v-4h2v4z\"/>\n",
              "    </g>\n",
              "</svg>\n",
              "  </button>\n",
              "\n",
              "<style>\n",
              "  .colab-df-quickchart {\n",
              "      --bg-color: #E8F0FE;\n",
              "      --fill-color: #1967D2;\n",
              "      --hover-bg-color: #E2EBFA;\n",
              "      --hover-fill-color: #174EA6;\n",
              "      --disabled-fill-color: #AAA;\n",
              "      --disabled-bg-color: #DDD;\n",
              "  }\n",
              "\n",
              "  [theme=dark] .colab-df-quickchart {\n",
              "      --bg-color: #3B4455;\n",
              "      --fill-color: #D2E3FC;\n",
              "      --hover-bg-color: #434B5C;\n",
              "      --hover-fill-color: #FFFFFF;\n",
              "      --disabled-bg-color: #3B4455;\n",
              "      --disabled-fill-color: #666;\n",
              "  }\n",
              "\n",
              "  .colab-df-quickchart {\n",
              "    background-color: var(--bg-color);\n",
              "    border: none;\n",
              "    border-radius: 50%;\n",
              "    cursor: pointer;\n",
              "    display: none;\n",
              "    fill: var(--fill-color);\n",
              "    height: 32px;\n",
              "    padding: 0;\n",
              "    width: 32px;\n",
              "  }\n",
              "\n",
              "  .colab-df-quickchart:hover {\n",
              "    background-color: var(--hover-bg-color);\n",
              "    box-shadow: 0 1px 2px rgba(60, 64, 67, 0.3), 0 1px 3px 1px rgba(60, 64, 67, 0.15);\n",
              "    fill: var(--button-hover-fill-color);\n",
              "  }\n",
              "\n",
              "  .colab-df-quickchart-complete:disabled,\n",
              "  .colab-df-quickchart-complete:disabled:hover {\n",
              "    background-color: var(--disabled-bg-color);\n",
              "    fill: var(--disabled-fill-color);\n",
              "    box-shadow: none;\n",
              "  }\n",
              "\n",
              "  .colab-df-spinner {\n",
              "    border: 2px solid var(--fill-color);\n",
              "    border-color: transparent;\n",
              "    border-bottom-color: var(--fill-color);\n",
              "    animation:\n",
              "      spin 1s steps(1) infinite;\n",
              "  }\n",
              "\n",
              "  @keyframes spin {\n",
              "    0% {\n",
              "      border-color: transparent;\n",
              "      border-bottom-color: var(--fill-color);\n",
              "      border-left-color: var(--fill-color);\n",
              "    }\n",
              "    20% {\n",
              "      border-color: transparent;\n",
              "      border-left-color: var(--fill-color);\n",
              "      border-top-color: var(--fill-color);\n",
              "    }\n",
              "    30% {\n",
              "      border-color: transparent;\n",
              "      border-left-color: var(--fill-color);\n",
              "      border-top-color: var(--fill-color);\n",
              "      border-right-color: var(--fill-color);\n",
              "    }\n",
              "    40% {\n",
              "      border-color: transparent;\n",
              "      border-right-color: var(--fill-color);\n",
              "      border-top-color: var(--fill-color);\n",
              "    }\n",
              "    60% {\n",
              "      border-color: transparent;\n",
              "      border-right-color: var(--fill-color);\n",
              "    }\n",
              "    80% {\n",
              "      border-color: transparent;\n",
              "      border-right-color: var(--fill-color);\n",
              "      border-bottom-color: var(--fill-color);\n",
              "    }\n",
              "    90% {\n",
              "      border-color: transparent;\n",
              "      border-bottom-color: var(--fill-color);\n",
              "    }\n",
              "  }\n",
              "</style>\n",
              "\n",
              "  <script>\n",
              "    async function quickchart(key) {\n",
              "      const quickchartButtonEl =\n",
              "        document.querySelector('#' + key + ' button');\n",
              "      quickchartButtonEl.disabled = true;  // To prevent multiple clicks.\n",
              "      quickchartButtonEl.classList.add('colab-df-spinner');\n",
              "      try {\n",
              "        const charts = await google.colab.kernel.invokeFunction(\n",
              "            'suggestCharts', [key], {});\n",
              "      } catch (error) {\n",
              "        console.error('Error during call to suggestCharts:', error);\n",
              "      }\n",
              "      quickchartButtonEl.classList.remove('colab-df-spinner');\n",
              "      quickchartButtonEl.classList.add('colab-df-quickchart-complete');\n",
              "    }\n",
              "    (() => {\n",
              "      let quickchartButtonEl =\n",
              "        document.querySelector('#df-ff16ff44-0ba8-4030-8ac2-660efb11608b button');\n",
              "      quickchartButtonEl.style.display =\n",
              "        google.colab.kernel.accessAllowed ? 'block' : 'none';\n",
              "    })();\n",
              "  </script>\n",
              "</div>\n",
              "    </div>\n",
              "  </div>\n"
            ],
            "application/vnd.google.colaboratory.intrinsic+json": {
              "type": "dataframe",
              "variable_name": "sign_language_data"
            }
          },
          "metadata": {},
          "execution_count": 3
        }
      ],
      "source": [
        "# Importing CSV from GitHub\n",
        "sign_language_url = \"https://raw.githubusercontent.com/emilyrshi/PIC16B_Project_Repo/6e27757ed9a716812ef7acfc855be8521285a464/SignLanguage_CSV/sign_language_dataset.csv\"\n",
        "\n",
        "sign_language_data = pd.read_csv(sign_language_url, index_col = False)\n",
        "sign_language_data.head()"
      ]
    },
    {
      "cell_type": "markdown",
      "source": [
        "# Data Cleaning and Preparation"
      ],
      "metadata": {
        "id": "tKSCn-legIm3"
      }
    },
    {
      "cell_type": "code",
      "source": [
        "# Separate image features and target labels\n",
        "X = sign_language_data.iloc[:, 1:785]\n",
        "y = sign_language_data['Letter']\n",
        "\n",
        "# Converting data to numpy arrays\n",
        "X = X.to_numpy()\n",
        "y = y.to_numpy()\n",
        "\n",
        "# Reshape input features into 4 dimensional tensor\n",
        "X = X.reshape(-1, 28, 28, 1)\n",
        "\n",
        "# Convert target labels to one-hot encoding\n",
        "y = pd.get_dummies(y)\n",
        "y = y.to_numpy()\n",
        "\n",
        "# Split the dataset into training and validation sets\n",
        "X_train, X_val, y_train, y_val = train_test_split(X, y, test_size=0.2, random_state = 42) # random_State = 42"
      ],
      "metadata": {
        "id": "lJ_hPsWS6Ny4"
      },
      "execution_count": null,
      "outputs": []
    },
    {
      "cell_type": "markdown",
      "source": [
        "# CNN Model One"
      ],
      "metadata": {
        "id": "UyImQzpfgEZv"
      }
    },
    {
      "cell_type": "code",
      "source": [
        "cnn_one_model = models.Sequential([\n",
        "    layers.Conv2D(32, (3, 3), activation='relu', input_shape=(28, 28, 1)),\n",
        "    layers.MaxPooling2D((2, 2)),\n",
        "    layers.Conv2D(64, (3, 3), activation='relu'),\n",
        "    layers.MaxPooling2D((2, 2)),\n",
        "    layers.Conv2D(128, (3, 3), activation='relu'),\n",
        "    layers.Flatten(),\n",
        "    layers.Dense(128, activation='relu'),\n",
        "    layers.Dense(7, activation='softmax')  # number of classes (7 letters)\n",
        "])"
      ],
      "metadata": {
        "id": "ohOpAWp21r4L"
      },
      "execution_count": null,
      "outputs": []
    },
    {
      "cell_type": "code",
      "source": [
        "# Compiling the model\n",
        "cnn_one_model.compile(optimizer='adam', loss='categorical_crossentropy', metrics=['accuracy'])\n",
        "\n",
        "cnn_one_history = cnn_one_model.fit(X_train, y_train, epochs=20, validation_data=(X_val, y_val))"
      ],
      "metadata": {
        "colab": {
          "base_uri": "https://localhost:8080/"
        },
        "id": "HdHdAsOB1_Pf",
        "outputId": "d84cf3ea-0e90-4bcd-e46a-db877a976b1a"
      },
      "execution_count": null,
      "outputs": [
        {
          "output_type": "stream",
          "name": "stdout",
          "text": [
            "Epoch 1/20\n",
            "18/18 [==============================] - 2s 17ms/step - loss: 11.9354 - accuracy: 0.1571 - val_loss: 2.1205 - val_accuracy: 0.2786\n",
            "Epoch 2/20\n",
            "18/18 [==============================] - 0s 7ms/step - loss: 1.8736 - accuracy: 0.2643 - val_loss: 1.6476 - val_accuracy: 0.3714\n",
            "Epoch 3/20\n",
            "18/18 [==============================] - 0s 7ms/step - loss: 1.5777 - accuracy: 0.4054 - val_loss: 1.4895 - val_accuracy: 0.4429\n",
            "Epoch 4/20\n",
            "18/18 [==============================] - 0s 7ms/step - loss: 1.4264 - accuracy: 0.4482 - val_loss: 1.3364 - val_accuracy: 0.4929\n",
            "Epoch 5/20\n",
            "18/18 [==============================] - 0s 7ms/step - loss: 1.1733 - accuracy: 0.5446 - val_loss: 1.2863 - val_accuracy: 0.4857\n",
            "Epoch 6/20\n",
            "18/18 [==============================] - 0s 7ms/step - loss: 1.1094 - accuracy: 0.5964 - val_loss: 1.0439 - val_accuracy: 0.6071\n",
            "Epoch 7/20\n",
            "18/18 [==============================] - 0s 7ms/step - loss: 0.8865 - accuracy: 0.6732 - val_loss: 0.9216 - val_accuracy: 0.6143\n",
            "Epoch 8/20\n",
            "18/18 [==============================] - 0s 7ms/step - loss: 0.8077 - accuracy: 0.7089 - val_loss: 0.8605 - val_accuracy: 0.6714\n",
            "Epoch 9/20\n",
            "18/18 [==============================] - 0s 7ms/step - loss: 0.7142 - accuracy: 0.7446 - val_loss: 0.7877 - val_accuracy: 0.6857\n",
            "Epoch 10/20\n",
            "18/18 [==============================] - 0s 7ms/step - loss: 0.5999 - accuracy: 0.7679 - val_loss: 0.7875 - val_accuracy: 0.7000\n",
            "Epoch 11/20\n",
            "18/18 [==============================] - 0s 7ms/step - loss: 0.5018 - accuracy: 0.8304 - val_loss: 0.8623 - val_accuracy: 0.6500\n",
            "Epoch 12/20\n",
            "18/18 [==============================] - 0s 6ms/step - loss: 0.4373 - accuracy: 0.8482 - val_loss: 0.5472 - val_accuracy: 0.8000\n",
            "Epoch 13/20\n",
            "18/18 [==============================] - 0s 6ms/step - loss: 0.3752 - accuracy: 0.8696 - val_loss: 0.5644 - val_accuracy: 0.7929\n",
            "Epoch 14/20\n",
            "18/18 [==============================] - 0s 7ms/step - loss: 0.3984 - accuracy: 0.8679 - val_loss: 0.6155 - val_accuracy: 0.7643\n",
            "Epoch 15/20\n",
            "18/18 [==============================] - 0s 6ms/step - loss: 0.2995 - accuracy: 0.8982 - val_loss: 0.5318 - val_accuracy: 0.8000\n",
            "Epoch 16/20\n",
            "18/18 [==============================] - 0s 7ms/step - loss: 0.2340 - accuracy: 0.9286 - val_loss: 0.5321 - val_accuracy: 0.8000\n",
            "Epoch 17/20\n",
            "18/18 [==============================] - 0s 6ms/step - loss: 0.2654 - accuracy: 0.9107 - val_loss: 0.7241 - val_accuracy: 0.7214\n",
            "Epoch 18/20\n",
            "18/18 [==============================] - 0s 6ms/step - loss: 0.3212 - accuracy: 0.8857 - val_loss: 0.7267 - val_accuracy: 0.7429\n",
            "Epoch 19/20\n",
            "18/18 [==============================] - 0s 6ms/step - loss: 0.3276 - accuracy: 0.8804 - val_loss: 0.5927 - val_accuracy: 0.7929\n",
            "Epoch 20/20\n",
            "18/18 [==============================] - 0s 7ms/step - loss: 0.2127 - accuracy: 0.9304 - val_loss: 0.5082 - val_accuracy: 0.8429\n"
          ]
        }
      ]
    },
    {
      "cell_type": "code",
      "source": [
        "plt.plot(cnn_one_history.history[\"accuracy\"], label = \"training\")\n",
        "plt.plot(cnn_one_history.history[\"val_accuracy\"], label = \"validation\")\n",
        "plt.gca().set(xlabel = \"epoch\", ylabel = \"accuracy\")\n",
        "plt.legend()"
      ],
      "metadata": {
        "colab": {
          "base_uri": "https://localhost:8080/",
          "height": 469
        },
        "id": "qR3zIkTusNly",
        "outputId": "4aafdc50-c91d-4652-9594-3599112a51a6"
      },
      "execution_count": null,
      "outputs": [
        {
          "output_type": "execute_result",
          "data": {
            "text/plain": [
              "<matplotlib.legend.Legend at 0x7f52d605c3d0>"
            ]
          },
          "metadata": {},
          "execution_count": 14
        },
        {
          "output_type": "display_data",
          "data": {
            "text/plain": [
              "<Figure size 640x480 with 1 Axes>"
            ],
            "image/png": "[encoded data removed]"
          },
          "metadata": {}
        }
      ]
    },
    {
      "cell_type": "markdown",
      "source": [
        "# CNN Model Two"
      ],
      "metadata": {
        "id": "_8GlhjkxgNMf"
      }
    },
    {
      "cell_type": "code",
      "source": [
        "cnn_two_model = models.Sequential([\n",
        "    layers.Conv2D(32, (3, 3), activation='relu', input_shape=(28, 28, 1)),\n",
        "    layers.MaxPooling2D((2, 2)),\n",
        "    layers.Conv2D(64, (3, 3), activation='relu'),\n",
        "    layers.MaxPooling2D((2, 2)),\n",
        "    layers.Conv2D(128, (3, 3), activation='relu'),\n",
        "    layers.MaxPooling2D((2, 2)),\n",
        "    layers.Flatten(),\n",
        "    layers.Dense(256, activation='relu'),\n",
        "    layers.Dropout(0.5),\n",
        "    layers.Dense(128, activation='relu'),\n",
        "    layers.Dense(7, activation='softmax')\n",
        "])"
      ],
      "metadata": {
        "id": "VqPCmMfJtEw0"
      },
      "execution_count": null,
      "outputs": []
    },
    {
      "cell_type": "code",
      "source": [
        "# Compiling the model\n",
        "cnn_two_model.compile(optimizer='adam', loss='categorical_crossentropy', metrics=['accuracy'])\n",
        "\n",
        "cnn_two_history = cnn_two_model.fit(X_train, y_train, epochs=20, validation_data=(X_val, y_val))"
      ],
      "metadata": {
        "colab": {
          "base_uri": "https://localhost:8080/"
        },
        "id": "aaMEjX6stSwZ",
        "outputId": "50dba4b3-9ce5-4bd2-8c2a-4e314befdbbb"
      },
      "execution_count": null,
      "outputs": [
        {
          "output_type": "stream",
          "name": "stdout",
          "text": [
            "Epoch 1/20\n",
            "18/18 [==============================] - 4s 28ms/step - loss: 4.0880 - accuracy: 0.1429 - val_loss: 1.9233 - val_accuracy: 0.2000\n",
            "Epoch 2/20\n",
            "18/18 [==============================] - 0s 9ms/step - loss: 1.9738 - accuracy: 0.1821 - val_loss: 1.9091 - val_accuracy: 0.2143\n",
            "Epoch 3/20\n",
            "18/18 [==============================] - 0s 10ms/step - loss: 1.9177 - accuracy: 0.1893 - val_loss: 1.8299 - val_accuracy: 0.2500\n",
            "Epoch 4/20\n",
            "18/18 [==============================] - 0s 13ms/step - loss: 1.8486 - accuracy: 0.2321 - val_loss: 1.8046 - val_accuracy: 0.2214\n",
            "Epoch 5/20\n",
            "18/18 [==============================] - 0s 7ms/step - loss: 1.8009 - accuracy: 0.2429 - val_loss: 1.7581 - val_accuracy: 0.3071\n",
            "Epoch 6/20\n",
            "18/18 [==============================] - 0s 7ms/step - loss: 1.7463 - accuracy: 0.2875 - val_loss: 1.6367 - val_accuracy: 0.4357\n",
            "Epoch 7/20\n",
            "18/18 [==============================] - 0s 8ms/step - loss: 1.6592 - accuracy: 0.3304 - val_loss: 1.5396 - val_accuracy: 0.3857\n",
            "Epoch 8/20\n",
            "18/18 [==============================] - 0s 7ms/step - loss: 1.5997 - accuracy: 0.3929 - val_loss: 1.3930 - val_accuracy: 0.4714\n",
            "Epoch 9/20\n",
            "18/18 [==============================] - 0s 6ms/step - loss: 1.5179 - accuracy: 0.3786 - val_loss: 1.3840 - val_accuracy: 0.4571\n",
            "Epoch 10/20\n",
            "18/18 [==============================] - 0s 8ms/step - loss: 1.3873 - accuracy: 0.4304 - val_loss: 1.2487 - val_accuracy: 0.4857\n",
            "Epoch 11/20\n",
            "18/18 [==============================] - 0s 7ms/step - loss: 1.3791 - accuracy: 0.4464 - val_loss: 1.2575 - val_accuracy: 0.4643\n",
            "Epoch 12/20\n",
            "18/18 [==============================] - 0s 7ms/step - loss: 1.3326 - accuracy: 0.4482 - val_loss: 1.2216 - val_accuracy: 0.4929\n",
            "Epoch 13/20\n",
            "18/18 [==============================] - 0s 6ms/step - loss: 1.1589 - accuracy: 0.5375 - val_loss: 1.1506 - val_accuracy: 0.5429\n",
            "Epoch 14/20\n",
            "18/18 [==============================] - 0s 7ms/step - loss: 1.0940 - accuracy: 0.5536 - val_loss: 0.9645 - val_accuracy: 0.6286\n",
            "Epoch 15/20\n",
            "18/18 [==============================] - 0s 7ms/step - loss: 1.0377 - accuracy: 0.5857 - val_loss: 0.9624 - val_accuracy: 0.5929\n",
            "Epoch 16/20\n",
            "18/18 [==============================] - 0s 6ms/step - loss: 0.9509 - accuracy: 0.6179 - val_loss: 0.9995 - val_accuracy: 0.6357\n",
            "Epoch 17/20\n",
            "18/18 [==============================] - 0s 7ms/step - loss: 0.8945 - accuracy: 0.6482 - val_loss: 1.0065 - val_accuracy: 0.5929\n",
            "Epoch 18/20\n",
            "18/18 [==============================] - 0s 7ms/step - loss: 0.8536 - accuracy: 0.6536 - val_loss: 0.9215 - val_accuracy: 0.6643\n",
            "Epoch 19/20\n",
            "18/18 [==============================] - 0s 7ms/step - loss: 0.7930 - accuracy: 0.6714 - val_loss: 0.8411 - val_accuracy: 0.6714\n",
            "Epoch 20/20\n",
            "18/18 [==============================] - 0s 7ms/step - loss: 0.7612 - accuracy: 0.7071 - val_loss: 0.7939 - val_accuracy: 0.6857\n"
          ]
        }
      ]
    },
    {
      "cell_type": "code",
      "source": [
        "plt.plot(cnn_two_history.history[\"accuracy\"], label = \"training\")\n",
        "plt.plot(cnn_two_history.history[\"val_accuracy\"], label = \"validation\")\n",
        "plt.gca().set(xlabel = \"epoch\", ylabel = \"accuracy\")\n",
        "plt.legend()"
      ],
      "metadata": {
        "colab": {
          "base_uri": "https://localhost:8080/",
          "height": 466
        },
        "id": "4tNUNuTTtfBO",
        "outputId": "31c5c9af-4b3d-49da-f8d9-e0920f88f36d"
      },
      "execution_count": null,
      "outputs": [
        {
          "output_type": "execute_result",
          "data": {
            "text/plain": [
              "<matplotlib.legend.Legend at 0x7f52d5bf3310>"
            ]
          },
          "metadata": {},
          "execution_count": 19
        },
        {
          "output_type": "display_data",
          "data": {
            "text/plain": [
              "<Figure size 640x480 with 1 Axes>"
            ],
            "image/png": "[encoded data removed]"
          },
          "metadata": {}
        }
      ]
    },
    {
      "cell_type": "markdown",
      "source": [
        "# CNN Model Three"
      ],
      "metadata": {
        "id": "hw0JGyVFgPAy"
      }
    },
    {
      "cell_type": "code",
      "source": [
        "cnn_three_model = models.Sequential([\n",
        "    layers.Conv2D(32, (3, 3), activation='relu', input_shape=(28, 28, 1)),\n",
        "    layers.MaxPooling2D((2, 2)),\n",
        "    layers.Conv2D(64, (3, 3), activation='relu'),\n",
        "    layers.MaxPooling2D((2, 2)),\n",
        "    layers.Flatten(),\n",
        "    layers.Dropout(0.5),\n",
        "    layers.Dense(128, activation='relu'),\n",
        "    layers.Dense(7, activation='softmax')\n",
        "])"
      ],
      "metadata": {
        "id": "h1trvVEXt9Nv"
      },
      "execution_count": null,
      "outputs": []
    },
    {
      "cell_type": "code",
      "source": [
        "# Compiling the model\n",
        "cnn_three_model.compile(optimizer='adam', loss='categorical_crossentropy', metrics=['accuracy'])\n",
        "\n",
        "cnn_three_history = cnn_three_model.fit(X_train, y_train, epochs=20, validation_data=(X_val, y_val))"
      ],
      "metadata": {
        "colab": {
          "base_uri": "https://localhost:8080/"
        },
        "id": "tPYQaAOmuAN7",
        "outputId": "a562fa19-0e13-42de-ec54-225b6e50fd9f"
      },
      "execution_count": null,
      "outputs": [
        {
          "output_type": "stream",
          "name": "stdout",
          "text": [
            "Epoch 1/20\n",
            "18/18 [==============================] - 2s 16ms/step - loss: 1.0606 - accuracy: 0.5643 - val_loss: 0.8935 - val_accuracy: 0.6429\n",
            "Epoch 2/20\n",
            "18/18 [==============================] - 0s 6ms/step - loss: 0.9971 - accuracy: 0.5964 - val_loss: 0.8326 - val_accuracy: 0.7071\n",
            "Epoch 3/20\n",
            "18/18 [==============================] - 0s 6ms/step - loss: 0.9968 - accuracy: 0.5946 - val_loss: 0.8648 - val_accuracy: 0.6786\n",
            "Epoch 4/20\n",
            "18/18 [==============================] - 0s 8ms/step - loss: 0.9965 - accuracy: 0.6143 - val_loss: 0.9940 - val_accuracy: 0.6786\n",
            "Epoch 5/20\n",
            "18/18 [==============================] - 0s 7ms/step - loss: 1.0422 - accuracy: 0.5821 - val_loss: 0.9601 - val_accuracy: 0.7071\n",
            "Epoch 6/20\n",
            "18/18 [==============================] - 0s 7ms/step - loss: 0.9354 - accuracy: 0.5964 - val_loss: 0.8119 - val_accuracy: 0.7071\n",
            "Epoch 7/20\n",
            "18/18 [==============================] - 0s 7ms/step - loss: 0.8013 - accuracy: 0.6946 - val_loss: 0.7878 - val_accuracy: 0.6571\n",
            "Epoch 8/20\n",
            "18/18 [==============================] - 0s 6ms/step - loss: 0.8348 - accuracy: 0.6839 - val_loss: 0.7586 - val_accuracy: 0.7214\n",
            "Epoch 9/20\n",
            "18/18 [==============================] - 0s 6ms/step - loss: 0.8760 - accuracy: 0.6589 - val_loss: 0.7699 - val_accuracy: 0.7357\n",
            "Epoch 10/20\n",
            "18/18 [==============================] - 0s 6ms/step - loss: 0.7523 - accuracy: 0.7268 - val_loss: 0.7947 - val_accuracy: 0.7500\n",
            "Epoch 11/20\n",
            "18/18 [==============================] - 0s 6ms/step - loss: 0.8021 - accuracy: 0.7000 - val_loss: 0.7322 - val_accuracy: 0.7571\n",
            "Epoch 12/20\n",
            "18/18 [==============================] - 0s 9ms/step - loss: 0.8269 - accuracy: 0.6839 - val_loss: 0.6504 - val_accuracy: 0.7429\n",
            "Epoch 13/20\n",
            "18/18 [==============================] - 0s 6ms/step - loss: 0.8072 - accuracy: 0.6893 - val_loss: 0.6875 - val_accuracy: 0.7786\n",
            "Epoch 14/20\n",
            "18/18 [==============================] - 0s 6ms/step - loss: 0.7278 - accuracy: 0.7054 - val_loss: 0.6668 - val_accuracy: 0.7500\n",
            "Epoch 15/20\n",
            "18/18 [==============================] - 0s 6ms/step - loss: 0.7196 - accuracy: 0.7143 - val_loss: 0.7537 - val_accuracy: 0.7357\n",
            "Epoch 16/20\n",
            "18/18 [==============================] - 0s 6ms/step - loss: 0.7447 - accuracy: 0.7196 - val_loss: 0.6048 - val_accuracy: 0.8143\n",
            "Epoch 17/20\n",
            "18/18 [==============================] - 0s 7ms/step - loss: 0.6926 - accuracy: 0.7286 - val_loss: 0.6305 - val_accuracy: 0.7929\n",
            "Epoch 18/20\n",
            "18/18 [==============================] - 0s 7ms/step - loss: 0.7075 - accuracy: 0.7446 - val_loss: 0.6898 - val_accuracy: 0.6786\n",
            "Epoch 19/20\n",
            "18/18 [==============================] - 0s 6ms/step - loss: 0.7933 - accuracy: 0.7071 - val_loss: 0.7072 - val_accuracy: 0.7357\n",
            "Epoch 20/20\n",
            "18/18 [==============================] - 0s 6ms/step - loss: 0.7618 - accuracy: 0.6893 - val_loss: 0.8599 - val_accuracy: 0.6500\n"
          ]
        }
      ]
    },
    {
      "cell_type": "code",
      "source": [
        "plt.plot(cnn_three_history.history[\"accuracy\"], label = \"training\")\n",
        "plt.plot(cnn_three_history.history[\"val_accuracy\"], label = \"validation\")\n",
        "plt.gca().set(xlabel = \"epoch\", ylabel = \"accuracy\")\n",
        "plt.legend()"
      ],
      "metadata": {
        "colab": {
          "base_uri": "https://localhost:8080/",
          "height": 466
        },
        "id": "a5opwRVkwWvA",
        "outputId": "f25ceabe-47b7-4974-d38b-d01f1d452630"
      },
      "execution_count": null,
      "outputs": [
        {
          "output_type": "execute_result",
          "data": {
            "text/plain": [
              "<matplotlib.legend.Legend at 0x7f52d54da650>"
            ]
          },
          "metadata": {},
          "execution_count": 35
        },
        {
          "output_type": "display_data",
          "data": {
            "text/plain": [
              "<Figure size 640x480 with 1 Axes>"
            ],
            "image/png": "[encoded data removed]"
          },
          "metadata": {}
        }
      ]
    },
    {
      "cell_type": "markdown",
      "source": [
        "# **Evaluating Model on Testing Data**"
      ],
      "metadata": {
        "id": "NCOZdZNaylGr"
      }
    },
    {
      "cell_type": "code",
      "source": [
        "# Evaluate accuracy on testing\n",
        "loss, accuracy = cnn_three_model.evaluate(X_val, y_val)"
      ],
      "metadata": {
        "colab": {
          "base_uri": "https://localhost:8080/"
        },
        "id": "Xpe_Gxrcw7R-",
        "outputId": "b44f9531-99de-4c18-a485-fab2e5b31809"
      },
      "execution_count": null,
      "outputs": [
        {
          "output_type": "stream",
          "name": "stdout",
          "text": [
            "5/5 [==============================] - 0s 4ms/step - loss: 0.8599 - accuracy: 0.6500\n"
          ]
        }
      ]
    },
    {
      "cell_type": "markdown",
      "source": [
        "## **Classification on Unseen Image**"
      ],
      "metadata": {
        "id": "uHQw3KxytJbe"
      }
    },
    {
      "cell_type": "code",
      "source": [
        "import prediction\n",
        "from prediction import load_image, predict_images\n",
        "\n",
        "# Define labels\n",
        "labels = {\n",
        "    0: 'D',\n",
        "    1: 'E',\n",
        "    2: 'H',\n",
        "    3: 'L',\n",
        "    4: 'O',\n",
        "    5: 'R',\n",
        "    6: 'W'\n",
        "}\n",
        "\n",
        "# Specify directory containing images to predict\n",
        "folder_dir = 'Models/PredictionImages'\n",
        "\n",
        "# Assuming cnn_three_model is defined elsewhere\n",
        "model = cnn_three_model\n",
        "\n",
        "# Perform prediction\n",
        "predict_images(folder_dir, model, labels)"
      ],
      "metadata": {
        "colab": {
          "base_uri": "https://localhost:8080/"
        },
        "id": "ATPI7vBxF1_a",
        "outputId": "8dbd3685-de7f-434a-9541-626dcd6e1383"
      },
      "execution_count": null,
      "outputs": [
        {
          "output_type": "stream",
          "name": "stdout",
          "text": [
            "1/1 [==============================] - 0s 109ms/step\n",
            "Prediction for h_7b6067c6-e4a8-11ee-8084-663f80099ff1.jpg : H\n",
            "1/1 [==============================] - 0s 29ms/step\n",
            "Prediction for e_9fc64bee-e4a8-11ee-8084-663f80099ff1.jpg : H\n",
            "1/1 [==============================] - 0s 27ms/step\n",
            "Prediction for h_sign_lang.jpg : H\n",
            "1/1 [==============================] - 0s 18ms/step\n",
            "Prediction for w_sign_lang.jpg : H\n",
            "1/1 [==============================] - 0s 22ms/step\n",
            "Prediction for r_sign_lang.jpg : W\n",
            "1/1 [==============================] - 0s 18ms/step\n",
            "Prediction for o_1b6e9e90-e4a9-11ee-8084-663f80099ff1.jpg : O\n",
            "1/1 [==============================] - 0s 20ms/step\n",
            "Prediction for d_8a76b8b8-e4a9-11ee-8084-663f80099ff1.jpg : R\n",
            "1/1 [==============================] - 0s 22ms/step\n",
            "Prediction for o_1c119410-e4a9-11ee-8084-663f80099ff1.jpg : O\n",
            "1/1 [==============================] - 0s 22ms/step\n",
            "Prediction for e_a9eb739c-e4a8-11ee-8084-663f80099ff1.jpg : E\n",
            "1/1 [==============================] - 0s 22ms/step\n",
            "Prediction for d_9a5447c8-e4a9-11ee-8084-663f80099ff1.jpg : R\n",
            "1/1 [==============================] - 0s 22ms/step\n",
            "Prediction for h_7abd93ca-e4a8-11ee-8084-663f80099ff1.jpg : H\n"
          ]
        }
      ]
    }
  ]
}