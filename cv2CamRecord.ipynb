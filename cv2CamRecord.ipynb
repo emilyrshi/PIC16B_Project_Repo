{
 "cells": [
  {
   "cell_type": "code",
   "execution_count": 1,
   "id": "37d85077",
   "metadata": {},
   "outputs": [
    {
     "name": "stdout",
     "output_type": "stream",
     "text": [
      "Collecting images for h\n"
     ]
    },
    {
     "name": "stderr",
     "output_type": "stream",
     "text": [
      "2024-03-12 15:01:44.647 python[95384:853691] IMKClient Stall detected, *please Report* your user scenario attaching a spindump (or sysdiagnose) that captures the problem - (imkxpc_bundleIdentifierWithReply:) block performed very slowly (2.02 secs).\n"
     ]
    },
    {
     "name": "stdout",
     "output_type": "stream",
     "text": [
      "Collecting images for e\n",
      "Collecting images for l\n",
      "Collecting images for o\n",
      "Collecting images for w\n",
      "Collecting images for r\n",
      "Collecting images for d\n"
     ]
    }
   ],
   "source": [
    "import cv2\n",
    "import os\n",
    "import time\n",
    "import uuid\n",
    "\n",
    "IMAGES_PATH = 'CollectedImages'\n",
    "# labels = ['a', 'b', 'c', 'd', 'e', 'f', 'g', 'h', 'i', 'j', 'k', 'l', 'm', 'n', 'o', 'p', 'q', 'r', 's', 't', 'u', 'v', 'w', 'x', 'y', 'z']\n",
    "\n",
    "labels = ['h', 'e', 'l', 'o', 'w', 'r', 'd'] \n",
    "number_imgs = 30\n",
    "\n",
    "# Loop through each of the labels in the labels array\n",
    "for label in labels:\n",
    "    # Create a directory for each one of the labels\n",
    "    label_directory = os.path.join(IMAGES_PATH, label)\n",
    "    os.makedirs(label_directory, exist_ok=True)\n",
    "    \n",
    "    # Start the video capture (initializes the webcam)\n",
    "    cap = cv2.VideoCapture(0)\n",
    "    print('Collecting images for {}'.format(label))\n",
    "    \n",
    "    # Gives us some time to get into position for image collection\n",
    "    time.sleep(5)\n",
    "    \n",
    "    # Check if the webcam is opened successfully\n",
    "    if not cap.isOpened():\n",
    "        print(\"Error: Could not open webcam\")\n",
    "        break\n",
    "\n",
    "    # Loop through the number of images we want to collect\n",
    "    for imgnum in range(number_imgs):\n",
    "        # Set up the capture with frame to represent our actual image\n",
    "        ret, frame = cap.read()\n",
    "        \n",
    "        if ret:\n",
    "            # Define the image name (entire path to our image)\n",
    "            imgname = os.path.join(label_directory, label + '_' + str(uuid.uuid1()) + '.jpg')\n",
    "            \n",
    "            # Write the image to the directory\n",
    "            cv2.imwrite(imgname, frame)\n",
    "            \n",
    "            # Show it on the screen so we can take a look at what has been collected\n",
    "            cv2.imshow('frame', frame)\n",
    "            \n",
    "            # Sleep to give time to get into another pose\n",
    "            time.sleep(2)\n",
    "\n",
    "        # Check for user input to quit capturing images\n",
    "        if cv2.waitKey(1) & 0xFF == ord('q'):\n",
    "            break\n",
    "\n",
    "    # Release the video capture\n",
    "    cap.release()\n",
    "\n",
    "# Close all OpenCV windows\n",
    "cv2.destroyAllWindows()"
   ]
  },
  {
   "cell_type": "code",
   "execution_count": null,
   "id": "ef7e442a",
   "metadata": {},
   "outputs": [],
   "source": []
  },
  {
   "cell_type": "code",
   "execution_count": null,
   "id": "5bf16b48",
   "metadata": {},
   "outputs": [],
   "source": []
  },
  {
   "cell_type": "code",
   "execution_count": null,
   "id": "a2b8cf96",
   "metadata": {},
   "outputs": [],
   "source": []
  },
  {
   "cell_type": "code",
   "execution_count": null,
   "id": "ad7b2070",
   "metadata": {},
   "outputs": [],
   "source": []
  }
 ],
 "metadata": {
  "kernelspec": {
   "display_name": "Python 3 (ipykernel)",
   "language": "python",
   "name": "python3"
  },
  "language_info": {
   "codemirror_mode": {
    "name": "ipython",
    "version": 3
   },
   "file_extension": ".py",
   "mimetype": "text/x-python",
   "name": "python",
   "nbconvert_exporter": "python",
   "pygments_lexer": "ipython3",
   "version": "3.11.5"
  }
 },
 "nbformat": 4,
 "nbformat_minor": 5
}
