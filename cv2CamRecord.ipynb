{
 "cells": [
  {
   "cell_type": "code",
   "execution_count": 1,
   "id": "2fe26e4e",
   "metadata": {},
   "outputs": [],
   "source": [
    "# import cv2 # opencv\n",
    "# import os\n",
    "# import time\n",
    "# import uuid"
   ]
  },
  {
   "cell_type": "code",
   "execution_count": 2,
   "id": "2b098b41",
   "metadata": {},
   "outputs": [],
   "source": [
    "# IMAGES_PATH = 'CollectedImages'"
   ]
  },
  {
   "cell_type": "code",
   "execution_count": 3,
   "id": "905d740e",
   "metadata": {},
   "outputs": [],
   "source": [
    "# # labels = ['one', 'two', 'three']\n",
    "# # labels = ['a', 'b', 'c', 'd', 'e', 'f', 'g', 'h', 'i', 'j', 'k', 'l', 'm', 'n', 'o', 'p', 'q', 'r', 's', 't', 'u', 'v', 'w', 'x', 'y', 'z']\n",
    "# labels = ['a', 'b']\n",
    "# # since we each (2 of us (shaina and yuka)) run this on our own, we each take 25 imgs per letter (so 50 imgs per letter)\n",
    "# number_imgs = 30"
   ]
  },
  {
   "cell_type": "code",
   "execution_count": null,
   "id": "d6614407",
   "metadata": {
    "scrolled": true
   },
   "outputs": [
    {
     "name": "stdout",
     "output_type": "stream",
     "text": [
      "Collecting images for a\n"
     ]
    },
    {
     "name": "stderr",
     "output_type": "stream",
     "text": [
      "2024-03-12 13:19:23.030 python[94926:793864] IMKClient Stall detected, *please Report* your user scenario attaching a spindump (or sysdiagnose) that captures the problem - (imkxpc_bundleIdentifierWithReply:) block performed very slowly (2.04 secs).\n"
     ]
    },
    {
     "name": "stdout",
     "output_type": "stream",
     "text": [
      "Collecting images for b\n"
     ]
    }
   ],
   "source": [
    "# # loop through each of the labels in the labels array\n",
    "# for label in labels:\n",
    "#     # create a directory for each one of the labels\n",
    "#     # ideally should have 5 folders inside of collectedimages so one for each one of these labels\n",
    "#     !mkdir {'CollectedImages\\\\' + label}\n",
    "#     # start the video capture (initializes the webcam)\n",
    "#     cap = cv2.VideoCapture(0)\n",
    "#     print('Collecting images for {}'.format(label))\n",
    "#     # gives us some time to get into position for image collection\n",
    "#     time.sleep(5)\n",
    "#     if cap.isOpened():\n",
    "#         # loop through the number of images we want to collect\n",
    "#         for imgnum in range(number_imgs):\n",
    "#             # set up the capture with frame to represent our actual image\n",
    "#             ret, frame = cap.read()\n",
    "#             if ret:\n",
    "#                 # defining it at imagename (entire path to our image)\n",
    "#                 # name of the actual file is label, dot, and then we're passing through some string\n",
    "#                 # formatting to pass through our unique identifier so this is going to make sure that \n",
    "#                 # each of our images has an individual name and we don't duplicate them\n",
    "#                 imgname = os.path.join(IMAGES_PATH, label, label+'.'+'{}.jpg'.format(str(uuid.uuid1())))\n",
    "#                 # writing to that directory\n",
    "#                 cv2.imwrite(imgname, frame)\n",
    "#                 # show it to the screen so we can take a look at what has been collected\n",
    "#                 cv2.imshow('frame', frame)\n",
    "#                 # sleep to give time to get into another pose\n",
    "#                 time.sleep(2)\n",
    "\n",
    "#             # break out of any issues\n",
    "#             if cv2.waitKey(1) & 0xFF == ord('q'):\n",
    "#                 break\n",
    "#         # release the video capture\n",
    "#         cap.release()"
   ]
  },
  {
   "cell_type": "code",
   "execution_count": 1,
   "id": "37d85077",
   "metadata": {},
   "outputs": [
    {
     "name": "stdout",
     "output_type": "stream",
     "text": [
      "Collecting images for h\n"
     ]
    },
    {
     "name": "stderr",
     "output_type": "stream",
     "text": [
      "2024-03-12 15:01:44.647 python[95384:853691] IMKClient Stall detected, *please Report* your user scenario attaching a spindump (or sysdiagnose) that captures the problem - (imkxpc_bundleIdentifierWithReply:) block performed very slowly (2.02 secs).\n"
     ]
    },
    {
     "name": "stdout",
     "output_type": "stream",
     "text": [
      "Collecting images for e\n",
      "Collecting images for l\n",
      "Collecting images for o\n",
      "Collecting images for w\n",
      "Collecting images for r\n",
      "Collecting images for d\n"
     ]
    }
   ],
   "source": [
    "import cv2\n",
    "import os\n",
    "import time\n",
    "import uuid\n",
    "\n",
    "IMAGES_PATH = 'CollectedImages'\n",
    "# labels = ['a', 'b', 'c', 'd', 'e', 'f', 'g', 'h', 'i', 'j', 'k', 'l', 'm', 'n', 'o', 'p', 'q', 'r', 's', 't', 'u', 'v', 'w', 'x', 'y', 'z']\n",
    "\n",
    "labels = ['h', 'e', 'l', 'o', 'w', 'r', 'd'] \n",
    "number_imgs = 30\n",
    "\n",
    "# Loop through each of the labels in the labels array\n",
    "for label in labels:\n",
    "    # Create a directory for each one of the labels\n",
    "    label_directory = os.path.join(IMAGES_PATH, label)\n",
    "    os.makedirs(label_directory, exist_ok=True)\n",
    "    \n",
    "    # Start the video capture (initializes the webcam)\n",
    "    cap = cv2.VideoCapture(0)\n",
    "    print('Collecting images for {}'.format(label))\n",
    "    \n",
    "    # Gives us some time to get into position for image collection\n",
    "    time.sleep(5)\n",
    "    \n",
    "    # Check if the webcam is opened successfully\n",
    "    if not cap.isOpened():\n",
    "        print(\"Error: Could not open webcam\")\n",
    "        break\n",
    "\n",
    "    # Loop through the number of images we want to collect\n",
    "    for imgnum in range(number_imgs):\n",
    "        # Set up the capture with frame to represent our actual image\n",
    "        ret, frame = cap.read()\n",
    "        \n",
    "        if ret:\n",
    "            # Define the image name (entire path to our image)\n",
    "            imgname = os.path.join(label_directory, label + '_' + str(uuid.uuid1()) + '.jpg')\n",
    "            \n",
    "            # Write the image to the directory\n",
    "            cv2.imwrite(imgname, frame)\n",
    "            \n",
    "            # Show it on the screen so we can take a look at what has been collected\n",
    "            cv2.imshow('frame', frame)\n",
    "            \n",
    "            # Sleep to give time to get into another pose\n",
    "            time.sleep(2)\n",
    "\n",
    "        # Check for user input to quit capturing images\n",
    "        if cv2.waitKey(1) & 0xFF == ord('q'):\n",
    "            break\n",
    "\n",
    "    # Release the video capture\n",
    "    cap.release()\n",
    "\n",
    "# Close all OpenCV windows\n",
    "cv2.destroyAllWindows()"
   ]
  },
  {
   "cell_type": "code",
   "execution_count": null,
   "id": "ef7e442a",
   "metadata": {},
   "outputs": [],
   "source": []
  },
  {
   "cell_type": "code",
   "execution_count": null,
   "id": "5bf16b48",
   "metadata": {},
   "outputs": [],
   "source": []
  },
  {
   "cell_type": "code",
   "execution_count": null,
   "id": "a2b8cf96",
   "metadata": {},
   "outputs": [],
   "source": []
  },
  {
   "cell_type": "code",
   "execution_count": null,
   "id": "ad7b2070",
   "metadata": {},
   "outputs": [],
   "source": []
  }
 ],
 "metadata": {
  "kernelspec": {
   "display_name": "Python 3 (ipykernel)",
   "language": "python",
   "name": "python3"
  },
  "language_info": {
   "codemirror_mode": {
    "name": "ipython",
    "version": 3
   },
   "file_extension": ".py",
   "mimetype": "text/x-python",
   "name": "python",
   "nbconvert_exporter": "python",
   "pygments_lexer": "ipython3",
   "version": "3.11.5"
  }
 },
 "nbformat": 4,
 "nbformat_minor": 5
}
