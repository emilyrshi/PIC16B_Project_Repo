{
  "nbformat": 4,
  "nbformat_minor": 0,
  "metadata": {
    "colab": {
      "provenance": []
    },
    "kernelspec": {
      "name": "python3",
      "display_name": "Python 3"
    },
    "language_info": {
      "name": "python"
    }
  },
  "cells": [
    {
      "cell_type": "code",
      "execution_count": null,
      "metadata": {
        "id": "zU_h76aNX9cx"
      },
      "outputs": [],
      "source": [
        "from google.colab import drive\n",
        "import os\n",
        "import cv2\n",
        "import numpy as np\n",
        "import pandas as pd\n",
        "\n",
        "# Self-created packages\n",
        "import image_capture\n",
        "from image_capture import collect_images\n",
        "import image_to_pixel\n",
        "from image_to_pixel import image_processing"
      ]
    },
    {
      "cell_type": "code",
      "source": [
        "# To capture your own personal images for your dataset, you can use the collect_images function\n",
        "\n",
        "## PARAMETERS FOR FUNCTION\n",
        "# Letters of gestures we will be taking pictures of (change to whatever you would like)\n",
        "labels = ['h', 'e', 'l', 'o', 'w', 'r', 'd']\n",
        "\n",
        "# Select the number of images you would like to take for each letter\n",
        "num_img = 50 # default is set to 100\n",
        "\n",
        "# Select the name of the folder you would like the images to be stored in\n",
        "img_path = 'SignLanguageGestures' # default is set to 'CollectedImages'\n",
        "\n",
        "## USE collect_images TO CAPTURE IMAGES USING PERSONAL WEBCAME\n",
        "# A pop up screen will appear once you run this code\n",
        "collect_images(labels, num_img, img_path)"
      ],
      "metadata": {
        "id": "nZIL5YSIZRlt"
      },
      "execution_count": null,
      "outputs": []
    },
    {
      "cell_type": "code",
      "source": [
        "# CHANGE THE CODE BELOW TO DIRECT TOWARD WHERE THE IMAGES YOU HAVE CAPTURED IS STORED\n",
        "# In our example, our images have been stored in our google drive\n",
        "drive.mount('/content/drive')\n",
        "os.chdir('/content/drive/My Drive/PIC16B_PROJ/CollectedImages')"
      ],
      "metadata": {
        "id": "GtHjqoT1Yq5N"
      },
      "execution_count": null,
      "outputs": []
    },
    {
      "cell_type": "code",
      "source": [
        "# Once images have been saves to your computer, you can convert your images into a dataframe of image features using the image_processing function\n",
        "\n",
        "## PARAMETERS FOR FUNCTION\n",
        "# Use the same labels you used for the collect_images function to ensure you are accessing the right folders\n",
        "labels = ['h', 'e', 'l', 'o', 'w', 'r', 'd']\n",
        "\n",
        "# Can use the same or different labels for the dataframe\n",
        "# These letters below will be the ones appearing on the dataframe in a column 'Letters'\n",
        "letters = ['H', 'E', 'L', 'O', 'W', 'R', 'D']\n",
        "\n",
        "# Specify the path to the main folder where all the images are stored\n",
        "main_folder = '/content/drive/My Drive/PIC16B_PROJ/CollectedImages'\n",
        "\n",
        "## USE image_processing TO CONVERT IMAGES TO DATAFRAME\n",
        "df = image_processing(main_folder, labels, letters)\n",
        "\n",
        "## SAVING DATAFRAME TO CSV FILE\n",
        "df.to_csv('sign_language_dataset.csv')"
      ],
      "metadata": {
        "id": "F0YBzEDTZijc"
      },
      "execution_count": null,
      "outputs": []
    }
  ]
}